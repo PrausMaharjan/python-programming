{
 "cells": [
  {
   "cell_type": "markdown",
   "metadata": {},
   "source": [
    "# Praus Maharjan"
   ]
  },
  {
   "cell_type": "markdown",
   "metadata": {},
   "source": [
    "# This is my first hello world program in python\n",
    "#### This code snippet composes a Python script to declare a variable and then to display it out on console. In the first line of the function any string text with space could be stored in the memory by assigning the value of the string to the variable hello which is “hello world”. \n",
    "#### The second line of the code calls the built-in function print() and the string hello and sends it. \n",
    "#### This function gives out to the console the value of the variable stored in hello. As a result, when ever the code is executed it brings the message hello world on the screen. \n",
    "#### This is a very simple script of variable assignment and output and could be useful for new beginners into Python.\n"
   ]
  },
  {
   "cell_type": "code",
   "execution_count": 1,
   "metadata": {},
   "outputs": [
    {
     "name": "stdout",
     "output_type": "stream",
     "text": [
      "hello world\n"
     ]
    }
   ],
   "source": [
    "hello = \"hello world\"\n",
    "print(hello)"
   ]
  },
  {
   "cell_type": "markdown",
   "metadata": {},
   "source": [
    "## Python Numbers"
   ]
  },
  {
   "cell_type": "code",
   "execution_count": 5,
   "metadata": {
    "vscode": {
     "languageId": "perl"
    }
   },
   "outputs": [
    {
     "name": "stdout",
     "output_type": "stream",
     "text": [
      "3.14\n",
      "<class 'float'>\n"
     ]
    }
   ],
   "source": [
    "pi = 3.14\n",
    "print(pi)\n",
    "print(type(pi))"
   ]
  },
  {
   "cell_type": "code",
   "execution_count": 19,
   "metadata": {
    "vscode": {
     "languageId": "perl"
    }
   },
   "outputs": [
    {
     "name": "stdout",
     "output_type": "stream",
     "text": [
      "5\n",
      "-1\n",
      "6\n",
      "0.6666666666666666\n",
      "2\n"
     ]
    }
   ],
   "source": [
    "a = 2\n",
    "b = 3\n",
    "# Addition\n",
    "sum = a+b\n",
    "print(sum)\n",
    "# Substraction\n",
    "substraction = a-b\n",
    "print(substraction)\n",
    "# Multiplication\n",
    "product = a*b\n",
    "print(product)\n",
    "# Division\n",
    "division = a/b\n",
    "print(division)\n",
    "# Modulus\n",
    "remainder = a%b\n",
    "print(remainder)\n"
   ]
  },
  {
   "cell_type": "markdown",
   "metadata": {},
   "source": [
    "### String in Python"
   ]
  },
  {
   "cell_type": "code",
   "execution_count": 3,
   "metadata": {
    "vscode": {
     "languageId": "perl"
    }
   },
   "outputs": [
    {
     "name": "stdout",
     "output_type": "stream",
     "text": [
      "Praus Maharjan\n",
      "14\n",
      "P\n",
      "s\n",
      "n\n",
      "first last name Praus  Maharjan\n"
     ]
    }
   ],
   "source": [
    "name = \"Praus Maharjan\"\n",
    "print(name)\n",
    "# Length of the string\n",
    "total_no_of_chars = len(name)\n",
    "print(total_no_of_chars)\n",
    "# Get first char\n",
    "first_char = name[0]\n",
    "print(first_char)\n",
    "# Get 5th char\n",
    "fifth_char = name[4]\n",
    "print(fifth_char)\n",
    "# Last char\n",
    "last_char = name[len(name)-1]\n",
    "print(last_char)\n",
    "# Sub-String\n",
    "first_name = name[0:5] # 0,1,2,3,4\n",
    "last_name = name[5:15]\n",
    "print(\"first last name\", first_name,last_name)"
   ]
  },
  {
   "cell_type": "code",
   "execution_count": 33,
   "metadata": {
    "vscode": {
     "languageId": "perl"
    }
   },
   "outputs": [
    {
     "name": "stdout",
     "output_type": "stream",
     "text": [
      "Krishna Prasad Singh\n"
     ]
    }
   ],
   "source": [
    "name = \"Krishna Prasad Singh\"\n",
    "first_name = name[0:7]\n",
    "middle_name = name[8:14]\n",
    "last_name = name[15:20]\n",
    "print(first_name,middle_name,last_name)"
   ]
  },
  {
   "cell_type": "code",
   "execution_count": 4,
   "metadata": {
    "vscode": {
     "languageId": "perl"
    }
   },
   "outputs": [
    {
     "name": "stdout",
     "output_type": "stream",
     "text": [
      "Its weekend\n",
      "test\n"
     ]
    }
   ],
   "source": [
    "day = int(input('Enter Day'))\n",
    "if day == 4:\n",
    "    print(\"I have to wake up at 5AM\")\n",
    "    print(\"I have to go to office\")\n",
    "    print(\"Its Wednesday\")\n",
    "elif day == 5:\n",
    "    print(\"Its Week day\")\n",
    "else:\n",
    "    print(\"Its weekend\")\n",
    "print('test')    "
   ]
  },
  {
   "cell_type": "markdown",
   "metadata": {},
   "source": [
    "### Write a program to findout that the given number is odd or even.\n"
   ]
  },
  {
   "cell_type": "code",
   "execution_count": 10,
   "metadata": {
    "vscode": {
     "languageId": "perl"
    }
   },
   "outputs": [
    {
     "name": "stdout",
     "output_type": "stream",
     "text": [
      "Given number is odd\n"
     ]
    }
   ],
   "source": [
    "number = int(input('Enter Number'))\n",
    "if number % 2 == 0:\n",
    "    print(\"Given number is even number \")\n",
    "else:\n",
    "    print(\"Given number is odd\")\n"
   ]
  },
  {
   "cell_type": "markdown",
   "metadata": {},
   "source": [
    "### if time is \n",
    "### in between 10-12 print its time for python \n",
    "### in between 12-14 \"DSA\" class\n",
    "### 14-16 \"English\"\n",
    "### default \"getting ready\""
   ]
  },
  {
   "cell_type": "code",
   "execution_count": 16,
   "metadata": {
    "vscode": {
     "languageId": "perl"
    }
   },
   "outputs": [
    {
     "name": "stdout",
     "output_type": "stream",
     "text": [
      "Getting ready\n"
     ]
    }
   ],
   "source": [
    "\n",
    "\n",
    "time = int(input(\"Enter time\"))\n",
    "if time >= 10 and time <12:\n",
    "    print(\"Its time for python\")\n",
    "elif time >=12 and time <14:\n",
    "    print(\"DSA Class\")\n",
    "elif time >=14 and time <16:\n",
    "    print(\"English\")\n",
    "else:\n",
    "    print(\"Getting ready\")"
   ]
  },
  {
   "cell_type": "markdown",
   "metadata": {},
   "source": [
    "### if you are from \"Nepal\" or \"India\" ticket for cablecar is 50 else 100\n"
   ]
  },
  {
   "cell_type": "code",
   "execution_count": 28,
   "metadata": {
    "vscode": {
     "languageId": "perl"
    }
   },
   "outputs": [
    {
     "name": "stdout",
     "output_type": "stream",
     "text": [
      "Ticket for cablecar is 50\n"
     ]
    }
   ],
   "source": [
    "\n",
    "country = str(input(\"Enter Country\"))\n",
    "if country.lower() == \"nepal\" or country.lower() ==\"india\":\n",
    "    print(\"Ticket for cablecar is 50\")\n",
    "else:\n",
    "    print(\"Ticket for cablecar is 100\")"
   ]
  },
  {
   "cell_type": "markdown",
   "metadata": {},
   "source": [
    "#### While Loop"
   ]
  },
  {
   "cell_type": "code",
   "execution_count": 32,
   "metadata": {
    "vscode": {
     "languageId": "perl"
    }
   },
   "outputs": [
    {
     "name": "stdout",
     "output_type": "stream",
     "text": [
      "hello\n",
      "0\n",
      "hello\n",
      "1\n",
      "hello\n",
      "2\n",
      "hello\n",
      "3\n",
      "hello\n",
      "4\n",
      "hello\n",
      "5\n",
      "hello\n",
      "6\n",
      "hello\n",
      "7\n",
      "hello\n",
      "8\n",
      "hello\n",
      "9\n"
     ]
    }
   ],
   "source": [
    "from time import sleep \n",
    "counter = 0 \n",
    "while counter<10:\n",
    "    print(\"hello\")\n",
    "    print(counter)\n",
    "    counter +=1\n",
    "    sleep(1)"
   ]
  },
  {
   "cell_type": "code",
   "execution_count": 34,
   "metadata": {
    "vscode": {
     "languageId": "perl"
    }
   },
   "outputs": [
    {
     "name": "stdout",
     "output_type": "stream",
     "text": [
      "Hello0\n",
      "Hello1\n",
      "Hello2\n",
      "Hello3\n",
      "Hello4\n",
      "Hello5\n",
      "Hello6\n",
      "Hello7\n",
      "Hello8\n",
      "Hello9\n"
     ]
    }
   ],
   "source": [
    "from time import sleep \n",
    "counter = 0\n",
    "while counter<10:\n",
    "    print(\"Hello\" + str(counter))\n",
    "    counter +=1\n",
    "    sleep(1)"
   ]
  },
  {
   "cell_type": "code",
   "execution_count": 38,
   "metadata": {
    "vscode": {
     "languageId": "perl"
    }
   },
   "outputs": [
    {
     "name": "stdout",
     "output_type": "stream",
     "text": [
      "Hello10\n",
      "Hello9\n",
      "Hello8\n",
      "Hello7\n",
      "Hello6\n",
      "Hello5\n",
      "Hello4\n",
      "Hello3\n",
      "Hello2\n",
      "Hello1\n"
     ]
    }
   ],
   "source": [
    "from time import sleep \n",
    "counter = 10\n",
    "while counter>0:\n",
    "    print(\"Hello\" + str(counter))\n",
    "    counter -=1\n",
    "    sleep(1)"
   ]
  },
  {
   "cell_type": "markdown",
   "metadata": {},
   "source": [
    "### Find the sum of first n= 100 natural numbers"
   ]
  },
  {
   "cell_type": "code",
   "execution_count": 41,
   "metadata": {
    "vscode": {
     "languageId": "perl"
    }
   },
   "outputs": [
    {
     "name": "stdout",
     "output_type": "stream",
     "text": [
      "5050\n"
     ]
    }
   ],
   "source": [
    "n=100\n",
    "counter = 0\n",
    "sum = 0 \n",
    "while counter<= n:\n",
    "    sum += counter \n",
    "    counter+=1\n",
    "print(sum)    "
   ]
  },
  {
   "cell_type": "markdown",
   "metadata": {},
   "source": [
    "### Find the sum of even numbers of the first n natural nnumbers"
   ]
  },
  {
   "cell_type": "code",
   "execution_count": 43,
   "metadata": {
    "vscode": {
     "languageId": "perl"
    }
   },
   "outputs": [
    {
     "name": "stdout",
     "output_type": "stream",
     "text": [
      "2550\n"
     ]
    }
   ],
   "source": [
    "n=100\n",
    "counter = 0\n",
    "sum = 0 \n",
    "while counter<= n:\n",
    "    if counter%2 == 0:\n",
    "        sum += counter \n",
    "    counter+=1\n",
    "print(sum)    "
   ]
  },
  {
   "cell_type": "markdown",
   "metadata": {},
   "source": [
    "### Reverse the given string"
   ]
  },
  {
   "cell_type": "code",
   "execution_count": 52,
   "metadata": {
    "vscode": {
     "languageId": "perl"
    }
   },
   "outputs": [
    {
     "name": "stdout",
     "output_type": "stream",
     "text": [
      "14\n",
      "lapeN udnamhtaK\n"
     ]
    }
   ],
   "source": [
    "address = \"Kathmandu Nepal\"\n",
    "length = len(address)-1\n",
    "reversed_string = ''\n",
    "print(length)\n",
    "while length>=0:\n",
    "    reversed_string += address[length]\n",
    "    length-=1\n",
    "print(reversed_string)    "
   ]
  },
  {
   "cell_type": "code",
   "execution_count": 3,
   "metadata": {
    "vscode": {
     "languageId": "perl"
    }
   },
   "outputs": [
    {
     "name": "stdout",
     "output_type": "stream",
     "text": [
      "1\n",
      "7\n",
      "5\n"
     ]
    }
   ],
   "source": [
    "numbers = [1,2,3,4,5,5,5]\n",
    "students = ['Ram','Hari']\n",
    "\n",
    "# access elements from list\n",
    "first_number = numbers[0]\n",
    "print(first_number)\n",
    "# count total number of items\n",
    "total_items = len(numbers)\n",
    "print(total_items)\n",
    "# last element\n",
    "last_element = numbers[total_items-1]\n",
    "print(last_element)"
   ]
  },
  {
   "cell_type": "code",
   "execution_count": 6,
   "metadata": {
    "vscode": {
     "languageId": "perl"
    }
   },
   "outputs": [
    {
     "name": "stdout",
     "output_type": "stream",
     "text": [
      "[1, 2, 3, 4, 5, 6, 7, 1, 1]\n",
      "[1, 2, 3, 4, 5, 6, 7, 1, 1, 8]\n",
      "[1, 2, 3, 4, 5, 6, 7, 1, 1]\n",
      "[1, 2, 3, 4, 6, 7, 1, 1]\n",
      "[1, 2, 10, 3, 4, 6, 7, 1, 1]\n",
      "3\n",
      "[1, 2, 3, 4]\n",
      "[]\n"
     ]
    }
   ],
   "source": [
    "numbers = [1,2,3,4,5,6,7,1,1]\n",
    "print(numbers)\n",
    "# append item\n",
    "numbers.append(8)\n",
    "print(numbers)\n",
    "#remove last item\n",
    "numbers.pop()\n",
    "print(numbers)\n",
    "# remove\n",
    "numbers.remove(5)\n",
    "print(numbers)\n",
    "# insert\n",
    "numbers.insert(2,10)\n",
    "print(numbers)\n",
    "# count\n",
    "print(numbers.count(1))\n",
    "\n",
    "numbers_1 = [1,2]\n",
    "numbers_2 = [3,4]\n",
    "numbers_1.extend(numbers_2)\n",
    "print(numbers_1)\n",
    "# clear \n",
    "numbers_1.clear()\n",
    "print(numbers_1)"
   ]
  },
  {
   "cell_type": "markdown",
   "metadata": {},
   "source": [
    "### Loop through list "
   ]
  },
  {
   "cell_type": "code",
   "execution_count": 8,
   "metadata": {
    "vscode": {
     "languageId": "perl"
    }
   },
   "outputs": [
    {
     "name": "stdout",
     "output_type": "stream",
     "text": [
      "27\n"
     ]
    }
   ],
   "source": [
    "# find the sum of all items of given list \n",
    "numbers = [1,2,3,4,5,6,6]\n",
    "\n",
    "total_items = len(numbers)\n",
    "index = 0\n",
    "sum = 0 \n",
    "while index<total_items:\n",
    "    sum += numbers[index]\n",
    "    index+=1\n",
    "\n",
    "print(sum)"
   ]
  },
  {
   "cell_type": "code",
   "execution_count": 15,
   "metadata": {
    "vscode": {
     "languageId": "perl"
    }
   },
   "outputs": [
    {
     "name": "stdout",
     "output_type": "stream",
     "text": [
      "The max value is 6\n"
     ]
    }
   ],
   "source": [
    "# find the maximum value from the given list \n",
    "numbers = [1,2,3,4,5,6,6]\n",
    "max_value = max(numbers)\n",
    "print(f\"The max value is {max_value}\")"
   ]
  },
  {
   "cell_type": "code",
   "execution_count": 17,
   "metadata": {
    "vscode": {
     "languageId": "perl"
    }
   },
   "outputs": [
    {
     "name": "stdout",
     "output_type": "stream",
     "text": [
      "1\n"
     ]
    }
   ],
   "source": [
    "numbers = [1,2,3,4,5,6,6]\n",
    "\n",
    "total_items = len(numbers)\n",
    "index = 0\n",
    "max_value = numbers[0]\n",
    "while index<total_items:\n",
    "    element = numbers[index]\n",
    "    index+=1\n",
    "print(max_value)"
   ]
  },
  {
   "cell_type": "markdown",
   "metadata": {},
   "source": [
    "### Filter Values"
   ]
  },
  {
   "cell_type": "code",
   "execution_count": 23,
   "metadata": {
    "vscode": {
     "languageId": "perl"
    }
   },
   "outputs": [
    {
     "name": "stdout",
     "output_type": "stream",
     "text": [
      "['Hari', 'Gopal']\n"
     ]
    }
   ],
   "source": [
    "students = ['Ram','Hari','Gopal']\n",
    "filtered_students = [i for i in students if i!='Ram']\n",
    "print(filtered_students)"
   ]
  },
  {
   "cell_type": "code",
   "execution_count": 24,
   "metadata": {
    "vscode": {
     "languageId": "perl"
    }
   },
   "outputs": [
    {
     "name": "stdout",
     "output_type": "stream",
     "text": [
      "[2, 4, 8]\n"
     ]
    }
   ],
   "source": [
    "numbers = [1,3,2,4,5,7,11,9,8]\n",
    "even_numbers = [number for number in numbers if number %2==0]\n",
    "print(even_numbers)"
   ]
  },
  {
   "cell_type": "markdown",
   "metadata": {},
   "source": [
    "# For Loop"
   ]
  },
  {
   "cell_type": "markdown",
   "metadata": {},
   "source": [
    "### Iterate over list, range (enumarator)"
   ]
  },
  {
   "cell_type": "code",
   "execution_count": 1,
   "metadata": {
    "vscode": {
     "languageId": "perl"
    }
   },
   "outputs": [
    {
     "name": "stdout",
     "output_type": "stream",
     "text": [
      "1\n",
      "1\n",
      "2\n",
      "3\n",
      "4\n",
      "5\n",
      "3\n",
      "11\n",
      "100\n"
     ]
    }
   ],
   "source": [
    "numbers = [1,1,2,3,4,5,3,11,100] #list of int\n",
    "\n",
    "even_list = []\n",
    "# iterate over list\n",
    "for num in numbers:\n",
    "    print(num)"
   ]
  },
  {
   "cell_type": "code",
   "execution_count": 10,
   "metadata": {
    "vscode": {
     "languageId": "perl"
    }
   },
   "outputs": [
    {
     "name": "stdout",
     "output_type": "stream",
     "text": [
      "2\n",
      "4\n",
      "100\n",
      "[2, 4, 100]\n",
      "[1, 1, 3, 5, 3, 11]\n",
      "2 exist in numbers\n"
     ]
    }
   ],
   "source": [
    "numbers = [1,1,2,3,4,5,3,11,100] #list of int\n",
    "# create list of even and odd numbers from the given list\n",
    "even_list = []\n",
    "odd_list = []\n",
    "# iterate over list\n",
    "for num in numbers:\n",
    "    if num %2==0:\n",
    "        print(num)\n",
    "        even_list.append(num)\n",
    "    else:\n",
    "        odd_list.append(num)\n",
    "print(even_list)\n",
    "print(odd_list)\n",
    "if 2 in numbers: # check item exists in list \n",
    "    print('2 exist in numbers')"
   ]
  },
  {
   "cell_type": "code",
   "execution_count": 15,
   "metadata": {
    "vscode": {
     "languageId": "perl"
    }
   },
   "outputs": [
    {
     "name": "stdout",
     "output_type": "stream",
     "text": [
      "[1, 2, 3, 4, 11, 100]\n"
     ]
    }
   ],
   "source": [
    "# create list of uniques mmumbers from the given list\n",
    "numbers = [1,1,2,3,4,3,11,100]\n",
    "unique_numbers =[]\n",
    "for num in numbers:\n",
    "    if num not in unique_numbers:\n",
    "        unique_numbers.append(num)\n",
    "\n",
    "print(unique_numbers)"
   ]
  },
  {
   "cell_type": "code",
   "execution_count": 16,
   "metadata": {
    "vscode": {
     "languageId": "perl"
    }
   },
   "outputs": [
    {
     "name": "stdout",
     "output_type": "stream",
     "text": [
      "H\n",
      "e\n",
      "l\n",
      "l\n",
      "o\n",
      " \n",
      "W\n",
      "o\n",
      "r\n",
      "l\n",
      "d\n"
     ]
    }
   ],
   "source": [
    "sentence = \"Hello World\"\n",
    "for char in sentence:\n",
    "    print(char)"
   ]
  },
  {
   "cell_type": "code",
   "execution_count": 23,
   "metadata": {
    "vscode": {
     "languageId": "perl"
    }
   },
   "outputs": [
    {
     "name": "stdout",
     "output_type": "stream",
     "text": [
      "3\n"
     ]
    }
   ],
   "source": [
    "# count total number of vowels in the given string\n",
    "sentence = \"Hello World\"\n",
    "vowels = 'a,e,i,o,u'\n",
    "total_vowels = 0\n",
    "for char in sentence:\n",
    "    if char in vowels: # char.lower()- for case sensitive char\n",
    "        total_vowels +=1\n",
    "print(total_vowels)"
   ]
  },
  {
   "cell_type": "code",
   "execution_count": 24,
   "metadata": {
    "vscode": {
     "languageId": "perl"
    }
   },
   "outputs": [
    {
     "name": "stdout",
     "output_type": "stream",
     "text": [
      "8\n"
     ]
    }
   ],
   "source": [
    "# count total number of words in the given string\n",
    "sentence = \"Hello World\"\n",
    "vowels = 'a,e,i,o,u'\n",
    "total_vowels = 0\n",
    "for char in sentence:\n",
    "    if char not in vowels: # char.lower()- for case sensitive char\n",
    "        total_vowels +=1\n",
    "print(total_vowels)"
   ]
  },
  {
   "cell_type": "code",
   "execution_count": 27,
   "metadata": {
    "vscode": {
     "languageId": "perl"
    }
   },
   "outputs": [
    {
     "name": "stdout",
     "output_type": "stream",
     "text": [
      "96\n",
      "24.0\n"
     ]
    }
   ],
   "source": [
    "numbers = [100,1,-10,5]\n",
    "# find the sum of all items of given list \n",
    "sum = 0\n",
    "for num in numbers:\n",
    "    sum += num\n",
    "print(sum)\n",
    "average = sum/len(numbers)\n",
    "print(average)"
   ]
  },
  {
   "cell_type": "code",
   "execution_count": 36,
   "metadata": {
    "vscode": {
     "languageId": "perl"
    }
   },
   "outputs": [
    {
     "name": "stdout",
     "output_type": "stream",
     "text": [
      "139\n",
      "34.75\n"
     ]
    }
   ],
   "source": [
    "# find the average of all items\n",
    "numbers = [100,22,3,14]\n",
    "sum = 0\n",
    "for num in numbers:\n",
    "    sum += num\n",
    "print(sum)\n",
    "average = sum/len(numbers)\n",
    "print(average)"
   ]
  },
  {
   "cell_type": "markdown",
   "metadata": {},
   "source": [
    "### inline for loop"
   ]
  },
  {
   "cell_type": "code",
   "execution_count": 37,
   "metadata": {
    "vscode": {
     "languageId": "perl"
    }
   },
   "outputs": [
    {
     "name": "stdout",
     "output_type": "stream",
     "text": [
      "[1, 200, 3, 5, 600, 8800, 19]\n"
     ]
    }
   ],
   "source": [
    "numbers = [1,2,3,5,6,88,19]\n",
    "transformed_list = [(num *100 if num%2==0 else num) for num in numbers]\n",
    "print(transformed_list)"
   ]
  }
 ],
 "metadata": {
  "kernelspec": {
   "display_name": "base",
   "language": "python",
   "name": "python3"
  },
  "language_info": {
   "codemirror_mode": {
    "name": "ipython",
    "version": 3
   },
   "file_extension": ".py",
   "mimetype": "text/x-python",
   "name": "python",
   "nbconvert_exporter": "python",
   "pygments_lexer": "ipython3",
   "version": "3.12.4"
  }
 },
 "nbformat": 4,
 "nbformat_minor": 2
}
